{
  "nbformat": 4,
  "nbformat_minor": 0,
  "metadata": {
    "colab": {
      "provenance": [],
      "authorship_tag": "ABX9TyOzpd2yvdmnSAwFDDElBDXJ",
      "include_colab_link": true
    },
    "kernelspec": {
      "name": "python3",
      "display_name": "Python 3"
    },
    "language_info": {
      "name": "python"
    }
  },
  "cells": [
    {
      "cell_type": "markdown",
      "metadata": {
        "id": "view-in-github",
        "colab_type": "text"
      },
      "source": [
        "<a href=\"https://colab.research.google.com/github/Moneycodin/Data-Science-Projects-For-Resumes/blob/main/30JANassignment.ipynb\" target=\"_parent\"><img src=\"https://colab.research.google.com/assets/colab-badge.svg\" alt=\"Open In Colab\"/></a>"
      ]
    },
    {
      "cell_type": "code",
      "execution_count": 1,
      "metadata": {
        "colab": {
          "base_uri": "https://localhost:8080/"
        },
        "id": "8kQxmDa8gi-1",
        "outputId": "31e5b326-f2d9-4399-eaa5-fedf93d85053"
      },
      "outputs": [
        {
          "output_type": "stream",
          "name": "stdout",
          "text": [
            "Enter your percentage: 50\n",
            "Your grade is: D\n"
          ]
        }
      ],
      "source": [
        "# Function to determine the grade based on percentage\n",
        "def determine_grade(percentage):\n",
        "    if percentage > 90:\n",
        "        return \"A\"\n",
        "    elif 80 < percentage <= 90:\n",
        "        return \"B\"\n",
        "    elif 60 <= percentage <=80:\n",
        "        return \"C\"\n",
        "\n",
        "    else:\n",
        "        return \"D\"\n",
        "\n",
        "# Accept percentage from the user\n",
        "try:\n",
        "    percentage = float(input(\"Enter your percentage: \"))\n",
        "    grade = determine_grade(percentage)\n",
        "    print(f\"Your grade is: {grade}\")\n",
        "except ValueError:\n",
        "    print(\"Please enter a valid number.\")"
      ]
    }
  ]
}